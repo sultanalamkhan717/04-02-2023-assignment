{
 "cells": [
  {
   "cell_type": "markdown",
   "id": "e60cf34f-bf76-4a97-b0de-7bb2ba14a050",
   "metadata": {},
   "source": [
    "# answer no 1"
   ]
  },
  {
   "cell_type": "code",
   "execution_count": 1,
   "id": "da0ec41c-5167-4ed8-bb48-7196c393fea6",
   "metadata": {},
   "outputs": [
    {
     "name": "stdout",
     "output_type": "stream",
     "text": [
      "[('Virat Kohli', 24936), ('Jack Kallis', 25534), ('Ricky Ponting', 27483), ('Sachin Tendulkar', 34357)]\n"
     ]
    }
   ],
   "source": [
    "players = [('Sachin Tendulkar', 34357), ('Ricky Ponting', 27483), ('Jack Kallis', 25534), ('Virat Kohli', 24936)]\n",
    "\n",
    "sorted_players = sorted(players, key=lambda x: x[1])\n",
    "\n",
    "print(sorted_players)\n"
   ]
  },
  {
   "cell_type": "markdown",
   "id": "6e4ce07f-ca15-42b2-8fb5-7044b239c183",
   "metadata": {},
   "source": [
    "#answer 2"
   ]
  },
  {
   "cell_type": "code",
   "execution_count": 2,
   "id": "a9e132fd-da8f-4e55-8c78-a3969564b3be",
   "metadata": {},
   "outputs": [],
   "source": [
    "numbers = [1,2,3,4,5,6,7,8,9,10]"
   ]
  },
  {
   "cell_type": "code",
   "execution_count": 3,
   "id": "2be218f2-8d47-41f2-a10d-2728eb52b210",
   "metadata": {},
   "outputs": [
    {
     "name": "stdout",
     "output_type": "stream",
     "text": [
      "[1, 4, 9, 16, 25, 36, 49, 64, 81, 100]\n"
     ]
    }
   ],
   "source": [
    "squares = list(map(lambda x : x**2 , numbers))\n",
    "print (squares)"
   ]
  },
  {
   "cell_type": "markdown",
   "id": "2cde65d8-fa31-4d82-ae4e-d4ced8aa24c4",
   "metadata": {},
   "source": [
    "# answer no 3"
   ]
  },
  {
   "cell_type": "code",
   "execution_count": 4,
   "id": "51fc4d35-0ef8-409e-8dc0-5839290438c8",
   "metadata": {},
   "outputs": [
    {
     "name": "stdout",
     "output_type": "stream",
     "text": [
      "('1', '2', '3', '4', '5', '6', '7', '8', '9', '10')\n"
     ]
    }
   ],
   "source": [
    "numbers = [1,2,3,4,5,6,7,8,9,10]\n",
    "\n",
    "tuple_of_string = tuple(map(lambda x : str(x), numbers))\n",
    "print (tuple_of_string)"
   ]
  },
  {
   "cell_type": "markdown",
   "id": "abed4e11-ec74-4ddf-ba6e-89efbc82ee82",
   "metadata": {},
   "source": [
    "# answer no 4"
   ]
  },
  {
   "cell_type": "code",
   "execution_count": 9,
   "id": "6bb60e42-82fd-490f-8446-02246aea170f",
   "metadata": {},
   "outputs": [
    {
     "name": "stdout",
     "output_type": "stream",
     "text": [
      "620448401733239439360000\n"
     ]
    }
   ],
   "source": [
    "from functools import reduce\n",
    "\n",
    "numbers = range(1, 25)\n",
    "\n",
    "product = reduce(lambda x, y: x * y, numbers)\n",
    "\n",
    "print(product)\n"
   ]
  },
  {
   "cell_type": "markdown",
   "id": "9376c092-6d7e-4d14-816c-b3e4985e9eba",
   "metadata": {},
   "source": [
    "# answer no 5"
   ]
  },
  {
   "cell_type": "code",
   "execution_count": 10,
   "id": "f96506f7-e09f-4f4c-b1cb-99d8f3c804cd",
   "metadata": {},
   "outputs": [
    {
     "name": "stdout",
     "output_type": "stream",
     "text": [
      "[6, 60, 90, 120]\n"
     ]
    }
   ],
   "source": [
    "numbers = [2, 3, 6, 9, 27, 60, 90, 120, 55, 46]\n",
    "\n",
    "filtered_numbers = list(filter(lambda x: (x % 2 == 0) and (x % 3 == 0), numbers))\n",
    "\n",
    "print(filtered_numbers)\n"
   ]
  },
  {
   "cell_type": "markdown",
   "id": "b6b55873-0af0-4c9c-94dc-02ee0ffd3c7a",
   "metadata": {},
   "source": [
    "# answer no 6"
   ]
  },
  {
   "cell_type": "code",
   "execution_count": 12,
   "id": "6c589717-f20b-4573-ba70-150324592a98",
   "metadata": {},
   "outputs": [
    {
     "name": "stdout",
     "output_type": "stream",
     "text": [
      "Palindromes in the list are: ['php', 'aba', 'radar', 'level']\n"
     ]
    }
   ],
   "source": [
    "strings = ['python', 'php', 'aba', 'radar', 'level']\n",
    "\n",
    "is_palindrome = lambda s: s == s[::-1]\n",
    "\n",
    "palindromes = list(filter(is_palindrome, strings))\n",
    "\n",
    "print(\"Palindromes in the list are:\", palindromes)\n"
   ]
  },
  {
   "cell_type": "code",
   "execution_count": null,
   "id": "498b459c-afe0-47ce-a864-bfb705ffcbe8",
   "metadata": {},
   "outputs": [],
   "source": []
  }
 ],
 "metadata": {
  "kernelspec": {
   "display_name": "Python 3 (ipykernel)",
   "language": "python",
   "name": "python3"
  },
  "language_info": {
   "codemirror_mode": {
    "name": "ipython",
    "version": 3
   },
   "file_extension": ".py",
   "mimetype": "text/x-python",
   "name": "python",
   "nbconvert_exporter": "python",
   "pygments_lexer": "ipython3",
   "version": "3.10.8"
  }
 },
 "nbformat": 4,
 "nbformat_minor": 5
}
